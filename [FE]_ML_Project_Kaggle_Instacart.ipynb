{
 "cells": [
  {
   "cell_type": "markdown",
   "metadata": {},
   "source": [
    "# 대회 개요\n",
    "\n",
    "[대회 설명]\n",
    "- 시간이 지남에 따라 고객 주문에 대한 익명화된 데이터를 사용하여 이전에 구매한 제품이 사용자의 다음 주문에 있을지 예측하는 최고의 모델을 찾는 대회\n",
    "\n",
    "  즉, **대회의 목표는 어떤 제품이 사용자의 다음 주문에 있을지 예측하는 것**.\n",
    "- [Kaggle Competition Page](https://www.kaggle.com/competitions/instacart-market-basket-analysis)"
   ]
  },
  {
   "cell_type": "markdown",
   "metadata": {},
   "source": [
    "# 데이터 개요\n",
    "\n",
    "[데이터 설명]\n",
    "- 이 데이터셋은 **시간**에 따른 **고객 주문**을 설명하는 csv 파일들로 구성되어 있습니다.\n",
    "- 이 데이터는 사용자가 **어떤 물품을 다시 주문할지 예측**하는 문제를 풀어야 합니다.\n",
    "- 데이터셋은 **익명화**되어 있으며 20만 명이 넘는 instacart 사용자의 300만건 이상의 주문들을 포함하고 있습니다.\n",
    "- 각 사용자별로, 4회에서 100회 사이의 주문 데이터가 제공됩니다. 또한 주문이 이루어진 주와 시간, 그리고 주문 간의 상대적인 시간을 제공합니다.\n",
    "- 데이터 파일은 6개로 구성되어 있으며, 각 csv 파일에 대한 설명은 다음과 같습니다.\n",
    "\n",
    "[csv별 설명]\n",
    "1. orders.csv\n",
    "    - order_id: 주문 식별자\n",
    "    - user_id: 고객 식별자\n",
    "    - eval_set: 주문이 속한 evaluation set\n",
    "    - order_number: 고객의 주문 번호 (1 = 첫 번째, n = n번째)\n",
    "    - order_dow: 주문한 요일\n",
    "    - order_hour_of_day: 주문이 이루어진 날의 시간\n",
    "    - days_since_prior: 마지막 주문 이후 일수, 30일로 제한(주문 번호 = 1의 경우 NA)\n",
    "\n",
    "2. products.csv\n",
    "    - product_id: 제품 식별자\n",
    "    - product_name: 제품명\n",
    "    - aisle_id: 제품 중분류 식별자\n",
    "    - department_id: 제품 대분류 식별자\n",
    "\n",
    "3. aisles.csv\n",
    "    - aisle_id: 제품 중분류 식별자\n",
    "    - aisle: 제품 중분류 명\n",
    "\n",
    "4. deptartments.csv\n",
    "    - department_id: 제품 대분류 식별자\n",
    "    - department: 제품 대분류 명\n",
    "\n",
    "5. order_products__SET.csv\n",
    "    - order_id: 주문 식별자\n",
    "    - product_id: 제품 식별자\n",
    "    - add_to_cart_order:  각 제품이 장바구니에 추가된 순서\n",
    "    - reordered: 제품이 과거에 해당 고객에 의해 주문된 경우 1, 그렇지 않으면 0\n",
    "\n",
    "    - 여기서 SET 은 orders.csv의 eval_set 중 하나\n",
    "        - \"prior\": 고객이 이전에 주문한 가장 최근 주문 데이터\n",
    "        - \"train\": 대회를 위해 참가자에게 제공된 훈련 데이터\n",
    "        - \"test\":  대회를 위해 참가자에게 제공된 테스트 데이터\n"
   ]
  },
  {
   "cell_type": "markdown",
   "metadata": {},
   "source": [
    "# __Feature Engineering 수행 후 HuggingFace에 데이터 셋 push하여 형상관리 부분 작업__"
   ]
  },
  {
   "cell_type": "markdown",
   "metadata": {},
   "source": [
    "## 라이브러리 임포트"
   ]
  },
  {
   "cell_type": "code",
   "execution_count": 9,
   "metadata": {},
   "outputs": [],
   "source": [
    "import numpy as np\n",
    "import pandas as pd"
   ]
  },
  {
   "cell_type": "markdown",
   "metadata": {},
   "source": [
    "## 데이터 로드"
   ]
  },
  {
   "cell_type": "code",
   "execution_count": 10,
   "metadata": {},
   "outputs": [],
   "source": [
    "IS_RUNNING_ON_LOCAL = True\n",
    "\n",
    "if IS_RUNNING_ON_LOCAL:\n",
    "    data_path = \"./dataset/\"\n",
    "else:\n",
    "    data_path = '/kaggle/working/data/'"
   ]
  },
  {
   "cell_type": "code",
   "execution_count": 12,
   "metadata": {},
   "outputs": [
    {
     "name": "stderr",
     "output_type": "stream",
     "text": [
      "Downloading...\n",
      "From (original): https://drive.google.com/uc?id=1otEj_HsJC1CG3rGOWHyYVW2abyuWNQFm\n",
      "From (redirected): https://drive.google.com/uc?id=1otEj_HsJC1CG3rGOWHyYVW2abyuWNQFm&confirm=t&uuid=827d4666-1447-49ef-bcea-61cf0de2bf9c\n",
      "To: /Users/choiyoonseol/Downloads/UpstageAILab3_ML/dataset/order_products__prior.csv\n",
      "100%|██████████| 578M/578M [00:20<00:00, 27.7MB/s] \n",
      "Downloading...\n",
      "From (original): https://drive.google.com/uc?id=1m87z10vP12OzC6Iv1WWe0VfaJyO5goJs\n",
      "From (redirected): https://drive.google.com/uc?id=1m87z10vP12OzC6Iv1WWe0VfaJyO5goJs&confirm=t&uuid=b1daaee6-e0b1-43c2-99bc-7d13ea6bb801\n",
      "To: /Users/choiyoonseol/Downloads/UpstageAILab3_ML/dataset/orders.csv\n",
      "100%|██████████| 109M/109M [00:03<00:00, 36.3MB/s] \n"
     ]
    }
   ],
   "source": [
    "if not IS_RUNNING_ON_LOCAL:\n",
    "    import os\n",
    "    import glob\n",
    "    import zipfile\n",
    "\n",
    "    # zip 압축 해제하기\n",
    "    for file in glob.glob(os.path.join('/kaggle/input/instacart-market-basket-analysis/', \"*.zip\"), recursive=True):\n",
    "        with zipfile.ZipFile(file, 'r') as z:\n",
    "            z.extractall(path=data_path)\n",
    "else:\n",
    "    import gdown\n",
    "    gdown.download(id='1otEj_HsJC1CG3rGOWHyYVW2abyuWNQFm', output=data_path+'order_products__prior.csv', quiet=False)\n",
    "    gdown.download(id='1m87z10vP12OzC6Iv1WWe0VfaJyO5goJs', output=data_path+'orders.csv', quiet=False)"
   ]
  },
  {
   "cell_type": "code",
   "execution_count": 13,
   "metadata": {},
   "outputs": [],
   "source": [
    "prior = pd.read_csv(data_path+'order_products__prior.csv', low_memory=False)\n",
    "orders = pd.read_csv(data_path+'orders.csv', low_memory=False)"
   ]
  },
  {
   "cell_type": "code",
   "execution_count": 14,
   "metadata": {},
   "outputs": [
    {
     "name": "stdout",
     "output_type": "stream",
     "text": [
      "<class 'pandas.core.frame.DataFrame'>\n",
      "RangeIndex: 32434489 entries, 0 to 32434488\n",
      "Data columns (total 4 columns):\n",
      " #   Column             Non-Null Count     Dtype\n",
      "---  ------             --------------     -----\n",
      " 0   order_id           32434489 non-null  int64\n",
      " 1   product_id         32434489 non-null  int64\n",
      " 2   add_to_cart_order  32434489 non-null  int64\n",
      " 3   reordered          32434489 non-null  int64\n",
      "dtypes: int64(4)\n",
      "memory usage: 989.8 MB\n"
     ]
    }
   ],
   "source": [
    "prior.info(show_counts=True)"
   ]
  },
  {
   "cell_type": "code",
   "execution_count": 7,
   "metadata": {},
   "outputs": [
    {
     "name": "stdout",
     "output_type": "stream",
     "text": [
      "<class 'pandas.core.frame.DataFrame'>\n",
      "RangeIndex: 3421083 entries, 0 to 3421082\n",
      "Data columns (total 7 columns):\n",
      " #   Column                  Non-Null Count    Dtype  \n",
      "---  ------                  --------------    -----  \n",
      " 0   order_id                3421083 non-null  int64  \n",
      " 1   user_id                 3421083 non-null  int64  \n",
      " 2   eval_set                3421083 non-null  object \n",
      " 3   order_number            3421083 non-null  int64  \n",
      " 4   order_dow               3421083 non-null  int64  \n",
      " 5   order_hour_of_day       3421083 non-null  int64  \n",
      " 6   days_since_prior_order  3214874 non-null  float64\n",
      "dtypes: float64(1), int64(5), object(1)\n",
      "memory usage: 182.7+ MB\n"
     ]
    }
   ],
   "source": [
    "orders.info(show_counts=True) #[TODO] orders 의 days_since_prior_order 결측치 확인 필요"
   ]
  },
  {
   "cell_type": "code",
   "execution_count": 8,
   "metadata": {},
   "outputs": [
    {
     "data": {
      "text/html": [
       "<div>\n",
       "<style scoped>\n",
       "    .dataframe tbody tr th:only-of-type {\n",
       "        vertical-align: middle;\n",
       "    }\n",
       "\n",
       "    .dataframe tbody tr th {\n",
       "        vertical-align: top;\n",
       "    }\n",
       "\n",
       "    .dataframe thead th {\n",
       "        text-align: right;\n",
       "    }\n",
       "</style>\n",
       "<table border=\"1\" class=\"dataframe\">\n",
       "  <thead>\n",
       "    <tr style=\"text-align: right;\">\n",
       "      <th></th>\n",
       "      <th>order_id</th>\n",
       "      <th>user_id</th>\n",
       "      <th>eval_set</th>\n",
       "      <th>order_number</th>\n",
       "      <th>order_dow</th>\n",
       "      <th>order_hour_of_day</th>\n",
       "      <th>days_since_prior_order</th>\n",
       "    </tr>\n",
       "  </thead>\n",
       "  <tbody>\n",
       "    <tr>\n",
       "      <th>0</th>\n",
       "      <td>2539329</td>\n",
       "      <td>1</td>\n",
       "      <td>prior</td>\n",
       "      <td>1</td>\n",
       "      <td>2</td>\n",
       "      <td>8</td>\n",
       "      <td>NaN</td>\n",
       "    </tr>\n",
       "    <tr>\n",
       "      <th>11</th>\n",
       "      <td>2168274</td>\n",
       "      <td>2</td>\n",
       "      <td>prior</td>\n",
       "      <td>1</td>\n",
       "      <td>2</td>\n",
       "      <td>11</td>\n",
       "      <td>NaN</td>\n",
       "    </tr>\n",
       "    <tr>\n",
       "      <th>26</th>\n",
       "      <td>1374495</td>\n",
       "      <td>3</td>\n",
       "      <td>prior</td>\n",
       "      <td>1</td>\n",
       "      <td>1</td>\n",
       "      <td>14</td>\n",
       "      <td>NaN</td>\n",
       "    </tr>\n",
       "    <tr>\n",
       "      <th>39</th>\n",
       "      <td>3343014</td>\n",
       "      <td>4</td>\n",
       "      <td>prior</td>\n",
       "      <td>1</td>\n",
       "      <td>6</td>\n",
       "      <td>11</td>\n",
       "      <td>NaN</td>\n",
       "    </tr>\n",
       "    <tr>\n",
       "      <th>45</th>\n",
       "      <td>2717275</td>\n",
       "      <td>5</td>\n",
       "      <td>prior</td>\n",
       "      <td>1</td>\n",
       "      <td>3</td>\n",
       "      <td>12</td>\n",
       "      <td>NaN</td>\n",
       "    </tr>\n",
       "    <tr>\n",
       "      <th>...</th>\n",
       "      <td>...</td>\n",
       "      <td>...</td>\n",
       "      <td>...</td>\n",
       "      <td>...</td>\n",
       "      <td>...</td>\n",
       "      <td>...</td>\n",
       "      <td>...</td>\n",
       "    </tr>\n",
       "    <tr>\n",
       "      <th>3420930</th>\n",
       "      <td>969311</td>\n",
       "      <td>206205</td>\n",
       "      <td>prior</td>\n",
       "      <td>1</td>\n",
       "      <td>4</td>\n",
       "      <td>12</td>\n",
       "      <td>NaN</td>\n",
       "    </tr>\n",
       "    <tr>\n",
       "      <th>3420934</th>\n",
       "      <td>3189322</td>\n",
       "      <td>206206</td>\n",
       "      <td>prior</td>\n",
       "      <td>1</td>\n",
       "      <td>3</td>\n",
       "      <td>18</td>\n",
       "      <td>NaN</td>\n",
       "    </tr>\n",
       "    <tr>\n",
       "      <th>3421002</th>\n",
       "      <td>2166133</td>\n",
       "      <td>206207</td>\n",
       "      <td>prior</td>\n",
       "      <td>1</td>\n",
       "      <td>6</td>\n",
       "      <td>19</td>\n",
       "      <td>NaN</td>\n",
       "    </tr>\n",
       "    <tr>\n",
       "      <th>3421019</th>\n",
       "      <td>2227043</td>\n",
       "      <td>206208</td>\n",
       "      <td>prior</td>\n",
       "      <td>1</td>\n",
       "      <td>1</td>\n",
       "      <td>15</td>\n",
       "      <td>NaN</td>\n",
       "    </tr>\n",
       "    <tr>\n",
       "      <th>3421069</th>\n",
       "      <td>3154581</td>\n",
       "      <td>206209</td>\n",
       "      <td>prior</td>\n",
       "      <td>1</td>\n",
       "      <td>3</td>\n",
       "      <td>11</td>\n",
       "      <td>NaN</td>\n",
       "    </tr>\n",
       "  </tbody>\n",
       "</table>\n",
       "<p>206209 rows × 7 columns</p>\n",
       "</div>"
      ],
      "text/plain": [
       "         order_id  user_id eval_set  order_number  order_dow  \\\n",
       "0         2539329        1    prior             1          2   \n",
       "11        2168274        2    prior             1          2   \n",
       "26        1374495        3    prior             1          1   \n",
       "39        3343014        4    prior             1          6   \n",
       "45        2717275        5    prior             1          3   \n",
       "...           ...      ...      ...           ...        ...   \n",
       "3420930    969311   206205    prior             1          4   \n",
       "3420934   3189322   206206    prior             1          3   \n",
       "3421002   2166133   206207    prior             1          6   \n",
       "3421019   2227043   206208    prior             1          1   \n",
       "3421069   3154581   206209    prior             1          3   \n",
       "\n",
       "         order_hour_of_day  days_since_prior_order  \n",
       "0                        8                     NaN  \n",
       "11                      11                     NaN  \n",
       "26                      14                     NaN  \n",
       "39                      11                     NaN  \n",
       "45                      12                     NaN  \n",
       "...                    ...                     ...  \n",
       "3420930                 12                     NaN  \n",
       "3420934                 18                     NaN  \n",
       "3421002                 19                     NaN  \n",
       "3421019                 15                     NaN  \n",
       "3421069                 11                     NaN  \n",
       "\n",
       "[206209 rows x 7 columns]"
      ]
     },
     "execution_count": 8,
     "metadata": {},
     "output_type": "execute_result"
    }
   ],
   "source": [
    "#[TODO-COMPLETE] orders 의 days_since_prior_order 결측치 확인\n",
    "# order_number 1, 즉 첫주문일 경우 days_since_prior_order 는 NaN\n",
    "orders.loc[orders['days_since_prior_order'].isna()]"
   ]
  },
  {
   "cell_type": "markdown",
   "metadata": {},
   "source": [
    "## 모델링 시 필요한 파일 정리"
   ]
  },
  {
   "cell_type": "code",
   "execution_count": 15,
   "metadata": {},
   "outputs": [],
   "source": [
    "orders_train_test = orders.loc[(orders['eval_set'] == 'train') | (orders['eval_set'] == 'test')]\n",
    "orders_train_test.to_csv(data_path+'orders_train_test.csv', index=False)"
   ]
  },
  {
   "cell_type": "code",
   "execution_count": 18,
   "metadata": {},
   "outputs": [
    {
     "name": "stdout",
     "output_type": "stream",
     "text": [
      "delete ./dataset/orders.csv\n",
      "delete ./dataset/order_products__prior.csv\n"
     ]
    }
   ],
   "source": [
    "if IS_RUNNING_ON_LOCAL:\n",
    "    import os\n",
    "\n",
    "    for file_name in ['orders.csv', 'order_products__prior.csv']:\n",
    "        if os.path.exists(data_path+file_name):\n",
    "            os.remove(data_path+file_name)\n",
    "            print(f'delete {data_path+file_name}')"
   ]
  },
  {
   "cell_type": "markdown",
   "metadata": {},
   "source": [
    "## Feature Engineering"
   ]
  },
  {
   "cell_type": "code",
   "execution_count": 12,
   "metadata": {},
   "outputs": [
    {
     "name": "stdout",
     "output_type": "stream",
     "text": [
      "<class 'pandas.core.frame.DataFrame'>\n",
      "Int64Index: 32640698 entries, 0 to 32640697\n",
      "Data columns (total 10 columns):\n",
      " #   Column                  Non-Null Count     Dtype  \n",
      "---  ------                  --------------     -----  \n",
      " 0   order_id                32640698 non-null  int64  \n",
      " 1   user_id                 32640698 non-null  int64  \n",
      " 2   eval_set                32640698 non-null  object \n",
      " 3   order_number            32640698 non-null  int64  \n",
      " 4   order_dow               32640698 non-null  int64  \n",
      " 5   order_hour_of_day       32640698 non-null  int64  \n",
      " 6   days_since_prior_order  30562630 non-null  float64\n",
      " 7   product_id              32434489 non-null  float64\n",
      " 8   add_to_cart_order       32434489 non-null  float64\n",
      " 9   reordered               32434489 non-null  float64\n",
      "dtypes: float64(4), int64(5), object(1)\n",
      "memory usage: 2.7+ GB\n",
      "None\n",
      "order_id                        0\n",
      "user_id                         0\n",
      "eval_set                        0\n",
      "order_number                    0\n",
      "order_dow                       0\n",
      "order_hour_of_day               0\n",
      "days_since_prior_order    2078068\n",
      "product_id                 206209\n",
      "add_to_cart_order          206209\n",
      "reordered                  206209\n",
      "dtype: int64\n"
     ]
    }
   ],
   "source": [
    "# [F & E] 문제 해결을 위해 고객의 이전 구매 패턴과 제품 정보를 알아야 하기 때문에 전체 주문 정보와 고객이 이전에 주문한 메타 정보 결합 \n",
    "prd = pd.merge(orders, prior, on='order_id', how='outer')\n",
    "print(prd.info(show_counts=True))\n",
    "print(prd.isnull().sum())"
   ]
  },
  {
   "cell_type": "code",
   "execution_count": 13,
   "metadata": {},
   "outputs": [
    {
     "name": "stdout",
     "output_type": "stream",
     "text": [
      "   user_id  product_id  uxp_total_bought\n",
      "0        1       196.0                10\n",
      "1        1     10258.0                 9\n",
      "2        1     10326.0                 1\n",
      "3        1     12427.0                10\n",
      "4        1     13032.0                 3\n"
     ]
    }
   ],
   "source": [
    "# 고객의 제품별 누적 구매 수\n",
    "uxp = pd.pivot_table(data=prd, index=['user_id', 'product_id'], values='order_id', aggfunc='count')\n",
    "uxp.columns = ['uxp_total_bought']\n",
    "uxp = uxp.reset_index()\n",
    "print(uxp.head())"
   ]
  },
  {
   "cell_type": "code",
   "execution_count": 14,
   "metadata": {},
   "outputs": [
    {
     "name": "stdout",
     "output_type": "stream",
     "text": [
      "            uxp_customers_one_shot\n",
      "product_id                        \n",
      "1.0                            440\n",
      "2.0                             70\n",
      "3.0                             38\n",
      "4.0                            118\n",
      "5.0                              2\n",
      "            uxp_unique_customers\n",
      "product_id                      \n",
      "1.0                          716\n",
      "2.0                           78\n",
      "3.0                           74\n",
      "4.0                          182\n",
      "5.0                            6\n",
      "   product_id  uxp_customers_one_shot  uxp_unique_customers  \\\n",
      "0         1.0                     440                   716   \n",
      "1         2.0                      70                    78   \n",
      "2         3.0                      38                    74   \n",
      "3         4.0                     118                   182   \n",
      "4         5.0                       2                     6   \n",
      "\n",
      "   one_shot_ratio_product  \n",
      "0                0.614525  \n",
      "1                0.897436  \n",
      "2                0.513514  \n",
      "3                0.648352  \n",
      "4                0.333333  \n",
      "   user_id  product_id  uxp_total_bought  one_shot_ratio_product\n",
      "0        1       196.0                10                0.417500\n",
      "1        1     10258.0                 9                0.447038\n",
      "2        1     10326.0                 1                0.478419\n",
      "3        1     12427.0                10                0.470518\n",
      "4        1     13032.0                 3                0.520218\n"
     ]
    }
   ],
   "source": [
    "# 제품별 일회성 구매율\n",
    "item_one = pd.pivot_table(data=uxp[uxp['uxp_total_bought'] == 1], index='product_id', values='uxp_total_bought', aggfunc='count')\n",
    "item_one.columns = ['uxp_customers_one_shot']\n",
    "print(item_one.head())\n",
    "item_size = pd.pivot_table(data=uxp, index='product_id', values='user_id', aggfunc='count')\n",
    "item_size.columns = ['uxp_unique_customers']\n",
    "print(item_size.head())\n",
    "\n",
    "userxproduct_var = pd.merge(item_one, item_size, how='left', left_index=True, right_on='product_id')\n",
    "userxproduct_var['one_shot_ratio_product'] = userxproduct_var['uxp_customers_one_shot'] / userxproduct_var['uxp_unique_customers']\n",
    "userxproduct_var = userxproduct_var.reset_index()\n",
    "print(userxproduct_var.head())\n",
    "\n",
    "uxp = pd.merge(uxp, userxproduct_var.loc[:, ['product_id', 'one_shot_ratio_product']], on='product_id', how='left')\n",
    "print(uxp.head())\n",
    "\n",
    "del [item_one, item_size, userxproduct_var]"
   ]
  },
  {
   "cell_type": "code",
   "execution_count": 15,
   "metadata": {},
   "outputs": [],
   "source": [
    "# 가장 최근 주문한 5개 주문에서, 사용자가 해당 제품을 주문한 횟수 및 비율\n",
    "prd['order_number_back'] = prd.groupby('user_id')['order_number'].transform(max) - prd['order_number'] + 1 \n",
    "last_five = pd.pivot_table(data=prd.loc[prd['order_number_back'] <= 5], index=['user_id','product_id'], values='order_id', aggfunc='count')\n",
    "last_five.columns = ['times_last5']\n",
    "last_five['times_last5_ratio'] = last_five['times_last5'] / 5\n",
    "\n",
    "uxp = pd.merge(left=uxp, right=last_five , on=['user_id', 'product_id'], how='left')\n",
    "del last_five"
   ]
  },
  {
   "cell_type": "code",
   "execution_count": 38,
   "metadata": {},
   "outputs": [],
   "source": [
    "#고객별 총 구매 횟수\n",
    "total_orders = pd.pivot_table(data=prd, index='user_id', values='order_number', aggfunc='max')\n",
    "total_orders.columns = ['total_orders']\n",
    "total_orders = total_orders.reset_index()\n",
    "\n",
    "# 고객별 제품 첫 주문번호\n",
    "first_order_number = pd.pivot_table(data=prd, index=['user_id', 'product_id'], values='order_number', aggfunc='min')\n",
    "first_order_number.columns = ['first_order_number']\n",
    "first_order_number = first_order_number.reset_index()\n",
    "\n",
    "uxp = pd.merge(left=uxp, right=pd.merge(total_orders, first_order_number, on='user_id', how='right'), on=['user_id', 'product_id'], how='left')\n",
    "del [total_orders, first_order_number]"
   ]
  },
  {
   "cell_type": "code",
   "execution_count": 43,
   "metadata": {},
   "outputs": [],
   "source": [
    "#제품별 재주문률\n",
    "product_var = pd.pivot_table(data=prd, index='product_id', values='reordered', aggfunc='mean')\n",
    "product_var.columns = ['reorder_ratio']\n",
    "#주문에서 제품이 카트에 담기는 평균 순서\n",
    "product_var['mean_add_to_cart_order'] = pd.pivot_table(data=prd, index='product_id', values='add_to_cart_order', aggfunc='mean')\n",
    "\n",
    "uxp = pd.merge(left=uxp, right=product_var, on='product_id', how='left')\n",
    "del product_var"
   ]
  },
  {
   "cell_type": "code",
   "execution_count": 46,
   "metadata": {},
   "outputs": [],
   "source": [
    "# 주문별 구매 제품 수\n",
    "order_size = pd.pivot_table(data=prd, index=['user_id', 'order_id'], values='product_id', aggfunc='count')\n",
    "order_size.columns = ['size'] \n",
    "# 사용자별 평균 구매 제품 수\n",
    "results = pd.pivot_table(data=order_size, index='user_id', values='size', aggfunc='mean')\n",
    "results.columns = ['order_size_avg']   \n",
    "results = results.reset_index()\n",
    "\n",
    "uxp = pd.merge(left=uxp, right=results, on='user_id', how='left')\n",
    "del [order_size, results]"
   ]
  },
  {
   "cell_type": "markdown",
   "metadata": {},
   "source": [
    "## 허깅페이스에 데이터 업로드"
   ]
  },
  {
   "cell_type": "code",
   "execution_count": 75,
   "metadata": {},
   "outputs": [],
   "source": [
    "from huggingface_hub import login , Repository\n",
    "from huggingface_hub import create_repo, upload_file\n",
    "from datasets import DatasetDict , Dataset, load_dataset"
   ]
  },
  {
   "cell_type": "code",
   "execution_count": null,
   "metadata": {},
   "outputs": [],
   "source": [
    "token = input('huggingface access token을 입력해주세요: ')"
   ]
  },
  {
   "cell_type": "code",
   "execution_count": null,
   "metadata": {},
   "outputs": [],
   "source": [
    "login(token)"
   ]
  },
  {
   "cell_type": "code",
   "execution_count": 59,
   "metadata": {},
   "outputs": [
    {
     "data": {
      "text/plain": [
       "RepoUrl('https://huggingface.co/datasets/developzest/kaggle_instacart', endpoint='https://huggingface.co', repo_type='dataset', repo_id='developzest/kaggle_instacart')"
      ]
     },
     "execution_count": 59,
     "metadata": {},
     "output_type": "execute_result"
    }
   ],
   "source": [
    "# Hugging Face 저장소 생성\n",
    "username = \"developzest\"\n",
    "dataset_name = \"kaggle_instacart\"\n",
    "repo_id = f\"{username}/{dataset_name}\"\n",
    "\n",
    "# 저장소 생성\n",
    "create_repo(repo_id, repo_type=\"dataset\", exist_ok=True)"
   ]
  },
  {
   "cell_type": "code",
   "execution_count": 72,
   "metadata": {},
   "outputs": [],
   "source": [
    "# 데이터프레임을 Dataset으로 변환\n",
    "uxp_dataset = Dataset.from_pandas(uxp).remove_columns([\"__index_level_0__\"])\n",
    "\n",
    "# 하나로 합치기\n",
    "final_dataset = DatasetDict({\"uxp\": uxp_dataset})"
   ]
  },
  {
   "cell_type": "code",
   "execution_count": 73,
   "metadata": {},
   "outputs": [
    {
     "name": "stdout",
     "output_type": "stream",
     "text": [
      "DatasetDict({\n",
      "    uxp: Dataset({\n",
      "        features: ['user_id', 'product_id', 'uxp_total_bought', 'one_shot_ratio_product', 'times_last5', 'times_last5_ratio', 'total_orders', 'first_order_number', 'reorder_ratio', 'mean_add_to_cart_order', 'order_size_avg'],\n",
      "        num_rows: 13307953\n",
      "    })\n",
      "})\n"
     ]
    }
   ],
   "source": [
    "# 분할된 데이터셋 확인\n",
    "print(final_dataset)"
   ]
  },
  {
   "cell_type": "code",
   "execution_count": 74,
   "metadata": {},
   "outputs": [
    {
     "name": "stderr",
     "output_type": "stream",
     "text": [
      "Creating parquet from Arrow format: 100%|██████████| 4436/4436 [00:01<00:00, 2221.82ba/s]\n",
      "Creating parquet from Arrow format: 100%|██████████| 4436/4436 [00:01<00:00, 2231.85ba/s]\n",
      "Creating parquet from Arrow format: 100%|██████████| 4436/4436 [00:02<00:00, 2179.49ba/s]\n",
      "Uploading the dataset shards: 100%|██████████| 3/3 [00:50<00:00, 16.85s/it]\n"
     ]
    },
    {
     "data": {
      "text/plain": [
       "CommitInfo(commit_url='https://huggingface.co/datasets/developzest/kaggle_instacart/commit/f8adf4227a855448d5a92c47bb951b698f4cd517', commit_message='Preprocessing', commit_description='', oid='f8adf4227a855448d5a92c47bb951b698f4cd517', pr_url=None, pr_revision=None, pr_num=None)"
      ]
     },
     "execution_count": 74,
     "metadata": {},
     "output_type": "execute_result"
    }
   ],
   "source": [
    "# 데이터셋 버전 업데이트 및 새로운 태그 추가 (업데이트)\n",
    "final_dataset.push_to_hub(repo_id, commit_message=\"Preprocessing\", revision=\"v1.0\")"
   ]
  },
  {
   "cell_type": "markdown",
   "metadata": {},
   "source": [
    "## 허깅페이스로부터 데이터 로드"
   ]
  },
  {
   "cell_type": "code",
   "execution_count": 76,
   "metadata": {},
   "outputs": [
    {
     "name": "stderr",
     "output_type": "stream",
     "text": [
      "Downloading readme: 100%|██████████| 731/731 [00:00<00:00, 2.54MB/s]\n",
      "Downloading data: 100%|██████████| 157M/157M [00:06<00:00, 24.8MB/s] \n",
      "Downloading data: 100%|██████████| 157M/157M [00:05<00:00, 26.8MB/s] \n",
      "Downloading data: 100%|██████████| 157M/157M [00:05<00:00, 27.3MB/s] \n",
      "Generating uxp split: 100%|██████████| 13307953/13307953 [00:04<00:00, 2766967.89 examples/s]\n"
     ]
    },
    {
     "name": "stdout",
     "output_type": "stream",
     "text": [
      "DatasetDict({\n",
      "    uxp: Dataset({\n",
      "        features: ['user_id', 'product_id', 'uxp_total_bought', 'one_shot_ratio_product', 'times_last5', 'times_last5_ratio', 'total_orders', 'first_order_number', 'reorder_ratio', 'mean_add_to_cart_order', 'order_size_avg'],\n",
      "        num_rows: 13307953\n",
      "    })\n",
      "})\n"
     ]
    }
   ],
   "source": [
    "# 데이터셋 로드\n",
    "dataset_v1 = load_dataset(repo_id, revision=\"v1.0\")\n",
    "\n",
    "# 데이터셋 확인\n",
    "print(dataset_v1)"
   ]
  }
 ],
 "metadata": {
  "kernelspec": {
   "display_name": "upstage-ai-lab",
   "language": "python",
   "name": "upstage-ai-lab"
  },
  "language_info": {
   "codemirror_mode": {
    "name": "ipython",
    "version": 3
   },
   "file_extension": ".py",
   "mimetype": "text/x-python",
   "name": "python",
   "nbconvert_exporter": "python",
   "pygments_lexer": "ipython3",
   "version": "3.11.8"
  }
 },
 "nbformat": 4,
 "nbformat_minor": 2
}
